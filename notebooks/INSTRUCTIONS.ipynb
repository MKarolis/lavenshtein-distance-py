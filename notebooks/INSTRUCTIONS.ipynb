{
 "cells": [
  {
   "cell_type": "markdown",
   "id": "019dd47d",
   "metadata": {},
   "source": [
    "# Intructions for running the solution\n",
    "## Initial setup\n",
    "The solution depends on the following python packages:\n",
    "  - numpy=1.21.4\n",
    "  - pandas\n",
    "  - openpyxl\n",
    "  - xlsxwriter\n",
    "  - numba\n",
    "  - cudatoolkit=11.2\n",
    "  - python-Levenshtein\n",
    "  - dask=2021.9.1\n",
    "  - polyleven\n",
    "  - joblib\n",
    "  - sparse\n",
    "  - mpire\n",
    "\n",
    "You can either install them manually, or create a new Anaconda environment with all of them.\n",
    "### Anaconda setup\n",
    "1. Open Anaconda prompt in the directory of solution.\n",
    "2. Execute the following command, replace 'envName' with the environment name of your choice\n",
    "```shell\n",
    "conda env update -n envName -f deps.yaml\n",
    "```\n",
    "If any problems arise due to cudatoolkit installation, it might be necessary to change the version from 11.2 into another one supported by the computer's GPU, edit `deps.yaml` to do that.\n",
    "3. Activate new environment\n",
    "```shell\n",
    "conda activate envName\n",
    "```\n",
    "4. Install `ray` separately, as it is not available on Anaconda repositories for Windows\n",
    "```shell\n",
    "pip install ray\n",
    "```\n",
    "\n",
    "## Using the solution\n",
    " - Call function `get_distance_matrix` from `main.py` with a numpy array of `string` values. The function returns either a two dimensional numpy array or `sparse.COO` matrix, depending on the algorithm used.\n",
    " - Uncomment an appropriate line in `get_distance_matrix` to change the algorithm used for computation\n",
    " - it is also possible to call the file directly: `python ./src/main.py`. This will use a string array stored in `./validation-data/sample.txt` and store the computed sparse distance matrix into `./out/result.npz`.\n",
    "\n",
    "### Important!\n",
    "Make sure to launch scripts from the root directory: `python ./src/my-script.py` so that path constants work as intended.\n",
    "\n",
    "## Submission files\n",
    "TBA"
   ]
  },
  {
   "cell_type": "code",
   "execution_count": null,
   "id": "7c0625a3",
   "metadata": {},
   "outputs": [],
   "source": []
  }
 ],
 "metadata": {
  "kernelspec": {
   "display_name": "Python 3 (ipykernel)",
   "language": "python",
   "name": "python3"
  },
  "language_info": {
   "codemirror_mode": {
    "name": "ipython",
    "version": 3
   },
   "file_extension": ".py",
   "mimetype": "text/x-python",
   "name": "python",
   "nbconvert_exporter": "python",
   "pygments_lexer": "ipython3",
   "version": "3.9.7"
  }
 },
 "nbformat": 4,
 "nbformat_minor": 5
}
